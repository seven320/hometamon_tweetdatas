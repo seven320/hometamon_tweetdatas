{
 "cells": [
  {
   "cell_type": "code",
   "execution_count": 1,
   "metadata": {},
   "outputs": [],
   "source": [
    "# encoding:utf-8\n",
    "import copy\n",
    "import numpy as np\n",
    "import random\n",
    "import torch\n",
    "import torch.nn as nn\n",
    "import torch.nn.functional as F\n",
    "import torch.optim as optim\n",
    "import pandas as pd\n",
    "import time\n",
    "import sys,os\n",
    "import matplotlib.pyplot as plt\n",
    "from torch.utils.data import Dataset,DataLoader\n",
    "from torchvision import transforms\n",
    "from torch.utils.data.sampler import SubsetRandomSampler\n",
    "\n",
    "import model\n",
    "import preprocessing"
   ]
  },
  {
   "cell_type": "code",
   "execution_count": 2,
   "metadata": {},
   "outputs": [],
   "source": [
    "word2vec = preprocessing.Word2vec()"
   ]
  },
  {
   "cell_type": "code",
   "execution_count": 3,
   "metadata": {},
   "outputs": [],
   "source": [
    "#data loader\n",
    "class Twitter_data(Dataset):\n",
    "    def __init__(self,path,transform=None):\n",
    "        self.path = path\n",
    "        self.transform = transform\n",
    "        self.df = pd.read_csv(path,dtype = 'object')\n",
    "        self.mt = preprocessing.Mecab_neologd()\n",
    "        # self.word2vec = preprocessing.Word2vec()\n",
    "\n",
    "    def __getitem__(self,index):\n",
    "        row = self.df.iloc[index]\n",
    "        text = row[\"text\"]\n",
    "        label_1 = row[\"reply_retweet_count\"]\n",
    "        label_2 = row[\"reply_favorited_count\"]\n",
    "\n",
    "        inputs = np.array([])\n",
    "        text_normalized = self.mt.normalize_neologd(text) #正規化\n",
    "        wakati_texts = self.mt.m.parse(text_normalized).split(\" \") #単語ごとにパーサー\n",
    "        \n",
    "#         print(wakati_texts)\n",
    "#         print(\"word_len:\",len(wakati_texts))\n",
    "        for word in wakati_texts:\n",
    "            \n",
    "            try:\n",
    "                vec = word2vec.transform(word) #ベクトル変換\n",
    "                vec = np.reshape(vec,(1,1,-1))\n",
    "                if len(inputs)==0:\n",
    "                    inputs = vec\n",
    "                else:\n",
    "                    inputs = np.concatenate([inputs,vec])\n",
    "\n",
    "            except:\n",
    "                # print(\"Unexpected error:\", sys.exc_info()[0])\n",
    "                pass\n",
    "#         print(inputs.size)\n",
    "        inputs_ = torch.from_numpy(inputs)\n",
    "#         print(inputs.shape)\n",
    "        # print(inputs_)\n",
    "\n",
    "        return [inputs,label_1,label_2]\n",
    "\n",
    "    def __len__(self):\n",
    "        row_nums,columns_num = self.df.shape\n",
    "        return row_nums"
   ]
  },
  {
   "cell_type": "code",
   "execution_count": 17,
   "metadata": {},
   "outputs": [],
   "source": [
    "full_dataset = Twitter_data(path=\"data/2019_04_04/result.csv\",\n",
    "                            transform = transforms.Compose([\n",
    "                            transforms.ToTensor()\n",
    "                            ]))\n",
    "\n",
    "\n",
    "\n",
    "num_train = len(full_dataset)\n",
    "indicies = list(range(num_train))\n",
    "split = int(np.floor(0.8*num_train))\n",
    "#shuffle\n",
    "random_seed = 1\n",
    "np.random.seed(random_seed)\n",
    "np.random.shuffle(indicies)\n",
    "\n",
    "train_idx,test_idx = indicies[:split],indicies[split:]\n",
    "train_sampler = SubsetRandomSampler(train_idx)\n",
    "test_sampler = SubsetRandomSampler(test_idx)\n",
    "\n",
    "train_loader = torch.utils.data.DataLoader(full_dataset,\n",
    "                                          batch_size=1,\n",
    "                                          sampler=train_sampler)\n",
    "\n",
    "test_loader = torch.utils.data.DataLoader(full_dataset,\n",
    "                                          batch_size=1,\n",
    "                                          sampler=test_sampler)\n"
   ]
  },
  {
   "cell_type": "code",
   "execution_count": 36,
   "metadata": {},
   "outputs": [],
   "source": [
    "class Trainer():\n",
    "    def __init__(self):\n",
    "        self.model = model.LSTM(100,128,2)\n",
    "        self.criterion = nn.MSELoss()\n",
    "        self.epoch_num = 0\n",
    "        self.train_data_num = 0\n",
    "        self.test_data_num = 0\n",
    "    \n",
    "    def epoch_run(self,train=False):\n",
    "        if train:\n",
    "            self.epoch_num += 1\n",
    "            data_loader = train_loader\n",
    "        else:\n",
    "            data_loader = test_loader\n",
    "        losses = []\n",
    "        data_count,correct = 0,0\n",
    "        for datas in data_loader:\n",
    "            inputs_,rt_num,fav_num = datas\n",
    "            rt_num = int(rt_num[0])\n",
    "            fav_num = int(fav_num[0])\n",
    "            if inputs_.dim()>2:\n",
    "                inputs_ = inputs_[0,:,:,:]\n",
    "                data_count += 1\n",
    "\n",
    "                output = self.model(inputs_)\n",
    "                predict = torch.argmax(output)\n",
    "        #         print(output)\n",
    "                reward = torch.zeros(2)\n",
    "                if fav_num+rt_num>0:\n",
    "                    label = 1  \n",
    "                else:\n",
    "                    label = 0\n",
    "                reward[label] = 1\n",
    "                if predict == label:\n",
    "                    correct += 1\n",
    "                loss = self.criterion(output,reward.float())\n",
    "                if train:\n",
    "                    loss.backward()\n",
    "                    self.model.optimizer.step()\n",
    "\n",
    "                losses.append(loss.item())\n",
    "        if train:\n",
    "            model_path = \"model/LSTMver1/epoch\"+\"{0:04d}\".format(self.epoch_num)\n",
    "            torch.save(self.model.state_dict(),model_path)\n",
    "        return data_count,losses\n",
    "    "
   ]
  },
  {
   "cell_type": "code",
   "execution_count": 37,
   "metadata": {},
   "outputs": [],
   "source": [
    "trainer = Trainer()\n",
    "train_losses = []\n",
    "test_losses = []\n",
    "ave_train_losses = []\n",
    "ave_test_losses = []"
   ]
  },
  {
   "cell_type": "code",
   "execution_count": 38,
   "metadata": {},
   "outputs": [
    {
     "name": "stdout",
     "output_type": "stream",
     "text": [
      "epoch:001time:7.57\n",
      "epoch:002time:6.69\n",
      "epoch:003time:6.66\n",
      "epoch:004time:6.51\n",
      "epoch:005time:6.53\n",
      "epoch:006time:6.51\n",
      "epoch:007time:6.59\n",
      "epoch:008time:6.61\n",
      "epoch:009time:6.76\n",
      "epoch:010time:7.01\n"
     ]
    }
   ],
   "source": [
    "EpochNum = 10\n",
    "\n",
    "for epoch in range(EpochNum): \n",
    "    begin_time = time.time()\n",
    "    #train\n",
    "    data_count,losses = trainer.epoch_run(train=True)\n",
    "#     print(losses)\n",
    "    train_losses = train_losses+losses\n",
    "    ave_train_losses.append(sum(losses)/len(losses))\n",
    "    \n",
    "    #test\n",
    "    data_count,losses = trainer.epoch_run(train=False)\n",
    "    test_losses = test_losses + losses\n",
    "    ave_test_losses.append(sum(losses)/len(losses))\n",
    "    runtime = time.time()-begin_time\n",
    "    print(\"epoch:{0:03.0f}time:{1:0.2f}\".format(trainer.epoch_num,runtime))"
   ]
  },
  {
   "cell_type": "code",
   "execution_count": 39,
   "metadata": {},
   "outputs": [
    {
     "data": {
      "image/png": "[encoded data removed]",
      "text/plain": [
       "<Figure size 432x288 with 1 Axes>"
      ]
     },
     "metadata": {
      "needs_background": "light"
     },
     "output_type": "display_data"
    }
   ],
   "source": [
    "fig = plt.figure()\n",
    "ax = fig.add_subplot(111)\n",
    "# x = [i for i in range(data_count)]\n",
    "\n",
    "# ave_losses = []\n",
    "# losss = 0\n",
    "# for ix in range(data_count):\n",
    "#     losss += losses[ix]\n",
    "#     if (ix+1)%10==0:\n",
    "#         ave_losses.append(losss/10)\n",
    "#         losss = 0\n",
    "    \n",
    "x = [1+i for i in range(len(ave_test_losses))]\n",
    "y1 = ave_train_losses\n",
    "y2 = ave_test_losses\n",
    "\n",
    "ax.plot(x,y1,label=\"train_loss\")\n",
    "ax.plot(x,y2,label=\"test_loss\")\n",
    "\n",
    "ax.set_xlabel(\"epoch\")\n",
    "ax.set_ylabel(\"loss\")\n",
    "# ax.plot(x,y2,label=\"correct ratio\")\n",
    "\n",
    "ax.legend()\n",
    "plt.show()"
   ]
  },
  {
   "cell_type": "code",
   "execution_count": 47,
   "metadata": {},
   "outputs": [
    {
     "data": {
      "image/png": "[encoded data removed]",
      "text/plain": [
       "<Figure size 432x288 with 1 Axes>"
      ]
     },
     "metadata": {
      "needs_background": "light"
     },
     "output_type": "display_data"
    }
   ],
   "source": [
    "fig = plt.figure()\n",
    "ax1 = fig.add_subplot(111)\n",
    "\n",
    "\n",
    "x = [1+i for i in range(len(train_losses))]\n",
    "y1 = train_losses\n",
    "x2 = [1+i for i in range(len(test_losses))]\n",
    "y2 = test_losses\n",
    "\n",
    "ax1.plot(x,y1,label=\"train_loss\")\n",
    "ax1.set_xlabel(\"sample num\")\n",
    "ax1.set_ylabel(\"loss\")\n",
    "\n",
    "ax2 = fig.add_subplot(111)\n",
    "ax2.plot(x2,y2,label=\"test_loss\")\n",
    "ax2.set_xlabel(\"sample num\")\n",
    "ax2.set_ylabel(\"loss\")\n",
    "ax2.legend()\n",
    "plt.show()\n",
    "# ax.plot(x,y2,label=\"correct ratio\")\n",
    "\n"
   ]
  },
  {
   "cell_type": "code",
   "execution_count": null,
   "metadata": {},
   "outputs": [],
   "source": [
    "\n"
   ]
  },
  {
   "cell_type": "code",
   "execution_count": null,
   "metadata": {},
   "outputs": [],
   "source": []
  },
  {
   "cell_type": "code",
   "execution_count": null,
   "metadata": {},
   "outputs": [],
   "source": []
  },
  {
   "cell_type": "code",
   "execution_count": null,
   "metadata": {},
   "outputs": [],
   "source": []
  },
  {
   "cell_type": "code",
   "execution_count": null,
   "metadata": {},
   "outputs": [],
   "source": []
  }
 ],
 "metadata": {
  "kernelspec": {
   "display_name": "Python 3",
   "language": "python",
   "name": "python3"
  },
  "language_info": {
   "codemirror_mode": {
    "name": "ipython",
    "version": 3
   },
   "file_extension": ".py",
   "mimetype": "text/x-python",
   "name": "python",
   "nbconvert_exporter": "python",
   "pygments_lexer": "ipython3",
   "version": "3.6.4rc1"
  }
 },
 "nbformat": 4,
 "nbformat_minor": 2
}
